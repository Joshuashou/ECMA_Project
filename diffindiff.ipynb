{
 "cells": [
  {
   "cell_type": "code",
   "execution_count": 8,
   "id": "dbc9fa7c",
   "metadata": {},
   "outputs": [],
   "source": [
    "import numpy as np\n",
    "import pandas as pd\n",
    "import csv"
   ]
  },
  {
   "cell_type": "code",
   "execution_count": 9,
   "id": "4b95d82c",
   "metadata": {},
   "outputs": [],
   "source": [
    "def clean2010(filename):\n",
    "    \"\"\"\n",
    "    'PDMED12M', 'PHOSPYR2', 'HISTOP5','HISTOP6'\n",
    "    \"\"\"\n",
    "    \n",
    "    with open(filename, 'r') as file:\n",
    "        lines = file.readlines()\n",
    "    \n",
    "    age_p = []\n",
    "    household = []\n",
    "    fam = []\n",
    "    indiv = []\n",
    "    schip = []\n",
    "    pdmed = []\n",
    "    in_hos = []\n",
    "    cost_too_high = []\n",
    "    insurance_coverage = []\n",
    "\n",
    "    for line in lines:\n",
    "        age = int(line[65:67])\n",
    "\n",
    "        if age >= 19 and age <= 24:\n",
    "            hhx = int(line[6:12])\n",
    "            family = int(line[15:17])\n",
    "            individual = int(line[17:19])\n",
    "            chip = int(line[622])\n",
    "            med_delay = int(line[526])\n",
    "            hos = int(line[527])\n",
    "            \n",
    "            if line[646] == ' ':\n",
    "                cost = 0\n",
    "            else:\n",
    "                cost = int(line[646])\n",
    "                \n",
    "            if line[647] == ' ':\n",
    "                insurance = 0\n",
    "            else:\n",
    "                insurance = int(line[647])\n",
    "\n",
    "            age_p.append(age)\n",
    "            household.append(hhx)\n",
    "            fam.append(family)\n",
    "            indiv.append(individual)\n",
    "            schip.append(chip)\n",
    "            pdmed.append(med_delay)\n",
    "            in_hos.append(hos)\n",
    "            cost_too_high.append(cost)\n",
    "            insurance_coverage.append(insurance)\n",
    "\n",
    "    d = {'Age': age_p, 'Household': household, 'Family' : fam, 'Individual Within Family' : indiv, \n",
    "         'CHIP': schip, 'MedDelay': pdmed, \n",
    "         'BeenInHospital': in_hos, 'CostTooHigh': cost_too_high, \n",
    "         'InsuranceRefused': insurance_coverage}\n",
    "    \n",
    "    df = pd.DataFrame.from_dict(d)\n",
    "    df.fillna(0, inplace=True)\n",
    "    return df"
   ]
  },
  {
   "cell_type": "code",
   "execution_count": 10,
   "id": "b813ece8",
   "metadata": {},
   "outputs": [],
   "source": [
    "def clean2012(filename):\n",
    "    \"\"\"\n",
    "    'PDMED12M', 'PHOSPYR2', 'HISTOP5','HISTOP6'\n",
    "    \"\"\"\n",
    "    \n",
    "    with open(filename, 'r') as file:\n",
    "        lines = file.readlines()\n",
    "    \n",
    "    age_p = []\n",
    "    household = []\n",
    "    fam = []\n",
    "    indiv = []\n",
    "    schip = []\n",
    "    pdmed = []\n",
    "    in_hos = []\n",
    "    cost_too_high = []\n",
    "    insurance_coverage = []\n",
    "\n",
    "    for line in lines:\n",
    "        age = int(line[65:67])\n",
    "\n",
    "        if age >= 19 and age <= 24:\n",
    "            hhx = int(line[6:12])\n",
    "            family = int(line[15:17])\n",
    "            individual = int(line[17:19])\n",
    "            chip = int(line[674])\n",
    "            med_delay = int(line[527])\n",
    "            hos = int(line[528])\n",
    "            \n",
    "            if line[698] == ' ':\n",
    "                cost = 0\n",
    "            else:\n",
    "                cost = int(line[698])\n",
    "                \n",
    "            if line[699] == ' ':\n",
    "                insurance = 0\n",
    "            else:\n",
    "                insurance = int(line[699])\n",
    "\n",
    "            age_p.append(age)\n",
    "            household.append(hhx)\n",
    "            fam.append(family)\n",
    "            indiv.append(individual)\n",
    "            schip.append(chip)\n",
    "            pdmed.append(med_delay)\n",
    "            in_hos.append(hos)\n",
    "            cost_too_high.append(cost)\n",
    "            insurance_coverage.append(insurance)\n",
    "\n",
    "    d = {'Age': age_p, 'Household': household, 'Family' : fam, 'Individual Within Family' : indiv, \n",
    "         'CHIP': schip, 'MedDelay': pdmed, \n",
    "         'BeenInHospital': in_hos, 'CostTooHigh': cost_too_high, \n",
    "         'InsuranceRefused': insurance_coverage}\n",
    "    \n",
    "    df = pd.DataFrame.from_dict(d)\n",
    "    df.fillna(0, inplace=True)\n",
    "    return df"
   ]
  },
  {
   "cell_type": "code",
   "execution_count": 11,
   "id": "1cc5683e",
   "metadata": {},
   "outputs": [],
   "source": [
    "def clean2014(filename):\n",
    "    \"\"\"\n",
    "    'PDMED12M', 'PHOSPYR2', 'HISTOP5','HISTOP6'\n",
    "    \"\"\"\n",
    "    \n",
    "    with open(filename, 'r') as file:\n",
    "        lines = file.readlines()\n",
    "    \n",
    "    age_p = []\n",
    "    household = []\n",
    "    fam = []\n",
    "    indiv = []\n",
    "    schip = []\n",
    "    pdmed = []\n",
    "    in_hos = []\n",
    "    cost_too_high = []\n",
    "    insurance_coverage = []\n",
    "\n",
    "    for line in lines:\n",
    "        age = int(line[65:67])\n",
    "\n",
    "        if age >= 19 and age <= 24:\n",
    "            hhx = int(line[6:12])\n",
    "            family = int(line[15:17])\n",
    "            individual = int(line[17:19])\n",
    "            chip = int(line[691])\n",
    "            med_delay = int(line[525])\n",
    "            hos = int(line[526])\n",
    "            \n",
    "            if line[729] == ' ':\n",
    "                cost = 0\n",
    "            else:\n",
    "                cost = int(line[729])\n",
    "            \n",
    "            if line[730] == ' ':\n",
    "                insurance = 0\n",
    "            else:\n",
    "                insurance = int(line[730])\n",
    "\n",
    "            age_p.append(age)\n",
    "            household.append(hhx)\n",
    "            fam.append(family)\n",
    "            indiv.append(individual)\n",
    "            schip.append(chip)\n",
    "            pdmed.append(med_delay)\n",
    "            in_hos.append(hos)\n",
    "            cost_too_high.append(cost)\n",
    "            insurance_coverage.append(insurance)\n",
    "\n",
    "    d = {'Age': age_p, 'Household': household, 'Family': family, 'Individual Within Family' : indiv,\n",
    "         'CHIP': schip, 'MedDelay': pdmed, \n",
    "         'BeenInHospital': in_hos, 'CostTooHigh': cost_too_high, \n",
    "         'InsuranceRefused': insurance_coverage}\n",
    "    \n",
    "    df = pd.DataFrame.from_dict(d)\n",
    "    df.fillna(0, inplace=True)\n",
    "    return df"
   ]
  },
  {
   "cell_type": "code",
   "execution_count": 13,
   "id": "905c098f",
   "metadata": {},
   "outputs": [],
   "source": [
    "df_2012 = clean2012(\"personsx2012.dat\") # cleaned data for 2012\n",
    "hh2012 = df_2012.Household.values.tolist()"
   ]
  },
  {
   "cell_type": "code",
   "execution_count": 14,
   "id": "bc71e797",
   "metadata": {},
   "outputs": [],
   "source": [
    "df_2014 = clean2014(\"personsx2014.dat\")"
   ]
  },
  {
   "cell_type": "code",
   "execution_count": 15,
   "id": "656b1823",
   "metadata": {},
   "outputs": [],
   "source": [
    "hh2014 = df_2014.Household.values.tolist()"
   ]
  },
  {
   "cell_type": "code",
   "execution_count": 107,
   "id": "231f56b8",
   "metadata": {},
   "outputs": [],
   "source": [
    "def common_member(a, b):\n",
    "    a_set = set(a)\n",
    "    b_set = set(b)\n",
    " \n",
    "    if (a_set & b_set):\n",
    "        return list(a_set & b_set)\n",
    "    else:\n",
    "        print(\"No common elements\")\n",
    "    \n",
    "treat_sample = (common_member(hh2012, hh2014)) \n",
    "# these people experienced treatment. Assumption is that households affect affordability "
   ]
  },
  {
   "cell_type": "code",
   "execution_count": 111,
   "id": "3b517b23",
   "metadata": {},
   "outputs": [],
   "source": [
    "df_2012_filtered = df_2012[~df_2012['Household'].isin(treat_sample)] # df setting aside sample used for treatment"
   ]
  },
  {
   "cell_type": "code",
   "execution_count": 154,
   "id": "dda00904",
   "metadata": {},
   "outputs": [],
   "source": [
    "def split_samples(df):\n",
    "    N = len(df)\n",
    "    if N % 2 == 0:\n",
    "        s = N/2\n",
    "    else:\n",
    "        s = int((N + 1)/2)\n",
    "    \n",
    "    df_subset = df.sample(s)\n",
    "    other_half = df.drop(df_subset.index)\n",
    "    \n",
    "    return df_subset, other_half"
   ]
  },
  {
   "cell_type": "code",
   "execution_count": 155,
   "id": "3dc30404",
   "metadata": {},
   "outputs": [],
   "source": [
    "filtered_19 = df_2012_filtered[df_2012_filtered['Age'] == 19]\n",
    "s1 = split_samples(filtered_19)[0] \n",
    "s2 = split_samples(filtered_19)[1] "
   ]
  },
  {
   "cell_type": "code",
   "execution_count": 156,
   "id": "470efee5",
   "metadata": {},
   "outputs": [],
   "source": [
    "delay_19_2012 = len(s1[s1['MedDelay'] == 1])/ len(s1)"
   ]
  },
  {
   "cell_type": "code",
   "execution_count": 164,
   "id": "73aac0b3",
   "metadata": {},
   "outputs": [],
   "source": [
    "delay_20_2012 = len(df_2012[(df_2012['Age'] == 20) \n",
    "    & (df_2012['MedDelay'] == 1)])/ len(df_2012[df_2012['Age'] == 20])"
   ]
  },
  {
   "cell_type": "code",
   "execution_count": 165,
   "id": "d23066ea",
   "metadata": {},
   "outputs": [],
   "source": [
    "delay_21_2012 = len(df_2012[(df_2012['Age'] == 21) \n",
    "    & (df_2012['MedDelay'] == 1)])/ len(df_2012[df_2012['Age'] == 21])"
   ]
  },
  {
   "cell_type": "code",
   "execution_count": 166,
   "id": "5abacab2",
   "metadata": {},
   "outputs": [],
   "source": [
    "delay_22_2012 = len(df_2012[(df_2012['Age'] == 22) \n",
    "    & (df_2012['MedDelay'] == 1)])/ len(df_2012[df_2012['Age'] == 22])"
   ]
  },
  {
   "cell_type": "code",
   "execution_count": 167,
   "id": "5c8e6fa6",
   "metadata": {},
   "outputs": [],
   "source": [
    "delay_23_2012 = len(df_2012[(df_2012['Age'] == 23) \n",
    "    & (df_2012['MedDelay'] == 1)])/ len(df_2012[df_2012['Age'] == 23])"
   ]
  },
  {
   "cell_type": "code",
   "execution_count": 168,
   "id": "e3df00c8",
   "metadata": {},
   "outputs": [],
   "source": [
    "delay_24_2012 = len(df_2012[(df_2012['Age'] == 24) \n",
    "    & (df_2012['MedDelay'] == 1)])/ len(df_2012[df_2012['Age'] == 24])"
   ]
  },
  {
   "cell_type": "code",
   "execution_count": 189,
   "id": "9a6c54b7",
   "metadata": {},
   "outputs": [
    {
     "data": {
      "text/plain": [
       "0.023473541383989154"
      ]
     },
     "execution_count": 189,
     "metadata": {},
     "output_type": "execute_result"
    }
   ],
   "source": [
    "control_diff = delay_21_2012 - delay_19_2012 \n",
    "# assuming the group of 21 year olds and 19 year olds are similar enough\n",
    "# and no unobserved hetergeneity\n",
    "control_diff # between 19 and 21"
   ]
  },
  {
   "cell_type": "code",
   "execution_count": 170,
   "id": "249288ba",
   "metadata": {},
   "outputs": [
    {
     "data": {
      "text/plain": [
       "0.02064091979503821"
      ]
     },
     "execution_count": 170,
     "metadata": {},
     "output_type": "execute_result"
    }
   ],
   "source": [
    "did2 = delay_22_2012 - delay_20_2012 \n",
    "did2"
   ]
  },
  {
   "cell_type": "code",
   "execution_count": 171,
   "id": "2727931b",
   "metadata": {},
   "outputs": [
    {
     "data": {
      "text/plain": [
       "-0.0006380435484913127"
      ]
     },
     "execution_count": 171,
     "metadata": {},
     "output_type": "execute_result"
    }
   ],
   "source": [
    "did3 = delay_23_2012 - delay_21_2012 \n",
    "did3"
   ]
  },
  {
   "cell_type": "code",
   "execution_count": 172,
   "id": "98b07631",
   "metadata": {},
   "outputs": [
    {
     "data": {
      "text/plain": [
       "-0.002740018859480872"
      ]
     },
     "execution_count": 172,
     "metadata": {},
     "output_type": "execute_result"
    }
   ],
   "source": [
    "did4 = delay_24_2012 - delay_22_2012 \n",
    "did4"
   ]
  },
  {
   "cell_type": "markdown",
   "id": "e4d5268a",
   "metadata": {},
   "source": [
    "We can clearly see there are differences between age groups. One possible factor is income, which is probably one of the largest determinants of accesibility. "
   ]
  },
  {
   "cell_type": "code",
   "execution_count": 144,
   "id": "f5d0cf19",
   "metadata": {},
   "outputs": [],
   "source": [
    "treat_2012 = df_2012[df_2012['Household'].isin(treat_sample)]\n",
    "treat_2014 = df_2014[df_2014['Household'].isin(treat_sample)]"
   ]
  },
  {
   "cell_type": "code",
   "execution_count": 175,
   "id": "6ecedc5c",
   "metadata": {},
   "outputs": [],
   "source": [
    "delay_pre_treat = len(s2[s2['MedDelay'] == 1])/ len(s2)"
   ]
  },
  {
   "cell_type": "code",
   "execution_count": 176,
   "id": "b2df21e2",
   "metadata": {},
   "outputs": [],
   "source": [
    "delay_post_treat = len(df_2014[(df_2014['Age'] == 21) \n",
    "    & (df_2014['MedDelay'] == 1)])/ len(df_2014[df_2014['Age'] == 21])"
   ]
  },
  {
   "cell_type": "code",
   "execution_count": 178,
   "id": "d12050c3",
   "metadata": {},
   "outputs": [
    {
     "data": {
      "text/plain": [
       "0.01057229161564209"
      ]
     },
     "execution_count": 178,
     "metadata": {},
     "output_type": "execute_result"
    }
   ],
   "source": [
    "treat_diff = delay_post_treat - delay_pre_treat\n",
    "treat_diff"
   ]
  },
  {
   "cell_type": "code",
   "execution_count": 191,
   "id": "68c205e7",
   "metadata": {},
   "outputs": [
    {
     "data": {
      "text/plain": [
       "-0.012901249768347063"
      ]
     },
     "execution_count": 191,
     "metadata": {},
     "output_type": "execute_result"
    }
   ],
   "source": [
    "final_did = treat_diff - control_diff\n",
    "final_did"
   ]
  },
  {
   "cell_type": "code",
   "execution_count": 185,
   "id": "c2010e58",
   "metadata": {},
   "outputs": [
    {
     "data": {
      "text/plain": [
       "0.0975340956054553"
      ]
     },
     "execution_count": 185,
     "metadata": {},
     "output_type": "execute_result"
    }
   ],
   "source": [
    "len(df_2010[df_2010['MedDelay'] == 1])/len(df_2010)"
   ]
  },
  {
   "cell_type": "code",
   "execution_count": 186,
   "id": "618844f7",
   "metadata": {},
   "outputs": [
    {
     "data": {
      "text/plain": [
       "0.0732799245994345"
      ]
     },
     "execution_count": 186,
     "metadata": {},
     "output_type": "execute_result"
    }
   ],
   "source": [
    "len(df_2012[df_2012['MedDelay'] == 1])/len(df_2012)"
   ]
  },
  {
   "cell_type": "code",
   "execution_count": 187,
   "id": "4aa70eff",
   "metadata": {},
   "outputs": [
    {
     "data": {
      "text/plain": [
       "0.057927560566082996"
      ]
     },
     "execution_count": 187,
     "metadata": {},
     "output_type": "execute_result"
    }
   ],
   "source": [
    "len(df_2014[df_2014['MedDelay'] == 1])/len(df_2014)"
   ]
  },
  {
   "cell_type": "code",
   "execution_count": null,
   "id": "a5986ceb",
   "metadata": {},
   "outputs": [],
   "source": []
  }
 ],
 "metadata": {
  "kernelspec": {
   "display_name": "Python 3",
   "language": "python",
   "name": "python3"
  },
  "language_info": {
   "codemirror_mode": {
    "name": "ipython",
    "version": 3
   },
   "file_extension": ".py",
   "mimetype": "text/x-python",
   "name": "python",
   "nbconvert_exporter": "python",
   "pygments_lexer": "ipython3",
   "version": "3.7.6"
  }
 },
 "nbformat": 4,
 "nbformat_minor": 5
}
